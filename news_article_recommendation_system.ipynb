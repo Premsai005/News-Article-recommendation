{
  "nbformat": 4,
  "nbformat_minor": 0,
  "metadata": {
    "colab": {
      "provenance": []
    },
    "kernelspec": {
      "name": "python3",
      "display_name": "Python 3"
    },
    "language_info": {
      "name": "python"
    }
  },
  "cells": [
    {
      "cell_type": "code",
      "execution_count": null,
      "metadata": {
        "id": "kqvOqnSl8mQB"
      },
      "outputs": [],
      "source": [
        "from sklearn.feature_extraction.text import TfidfVectorizer\n",
        "import numpy as np\n",
        "import pandas as pd\n",
        "from sklearn.metrics.pairwise import cosine_similarity\n"
      ]
    },
    {
      "cell_type": "code",
      "source": [
        "articles=pd.read_csv('shared_articles.csv')\n",
        "users=pd.read_csv('users_interactions.csv')"
      ],
      "metadata": {
        "id": "WTIBG73GVIoq"
      },
      "execution_count": null,
      "outputs": []
    },
    {
      "cell_type": "code",
      "source": [
        "articles.dropna(subset=['text'],inplace=True)\n",
        "users.dropna(inplace=True)\n",
        "users.columns = users.columns.str.strip()"
      ],
      "metadata": {
        "id": "sfZvKVl-VV_n"
      },
      "execution_count": null,
      "outputs": []
    },
    {
      "cell_type": "code",
      "source": [
        "event_type_strength = {\n",
        "   'VIEW': 1.0,\n",
        "   'LIKE': 2.0,\n",
        "   'BOOKMARK': 2.5,\n",
        "   'FOLLOW': 3.0,\n",
        "   'COMMENT CREATED': 4.0,\n",
        "}\n",
        "\n",
        "\n",
        "users['rating'] = users['eventType'].apply(lambda x: event_type_strength[x])\n",
        "tdidf=TfidfVectorizer(stop_words='english')\n",
        "tfidf_matrix=tdidf.fit_transform(articles['text'])\n",
        "\n",
        "cosine_sim=cosine_similarity(tfidf_matrix,tfidf_matrix)\n",
        "\n",
        "def get_recommendations(article_title,cosine_sim=cosine_sim):\n",
        "\n",
        "  if article_title in articles['title'].values:\n",
        "    idx = articles[articles['title'] == article_title].index[0]\n",
        "    sim_scores = list(enumerate(cosine_sim[idx]))\n",
        "    sim_scores = sorted(sim_scores, key=lambda x: x[1], reverse=True)\n",
        "    sim_scores = sim_scores[1:11]\n",
        "    article_indices = [i[0] for i in sim_scores]\n",
        "    return articles['title'].iloc[article_indices]\n",
        "  else:\n",
        "    print(f\"Article title '{article_title}' not found in the dataset.\")\n",
        "    return []"
      ],
      "metadata": {
        "id": "Xj6Tv3Z8WSlY"
      },
      "execution_count": null,
      "outputs": []
    },
    {
      "cell_type": "code",
      "source": [
        "from sklearn.decomposition import TruncatedSVD\n",
        "from scipy.sparse import csr_matrix\n",
        "from sklearn.impute import SimpleImputer\n",
        "\n",
        "imputer = SimpleImputer(strategy='mean')\n",
        "user_article_matrix = pd.pivot_table(users, values='rating', index='personId', columns='contentId', fill_value=0)\n",
        "user_article_matrix_imputed = imputer.fit_transform(user_article_matrix)\n",
        "\n",
        "sparse_matrix=csr_matrix(user_article_matrix)\n",
        "print(user_article_matrix)\n",
        "svd=TruncatedSVD(n_components=2)\n",
        "latent_matrix=svd.fit_transform(sparse_matrix)\n",
        "\n",
        "def get_collaborative_recommendation(personId):\n",
        "  user_index = user_article_matrix.index.get_loc(personId)\n",
        "  user_vector = latent_matrix[user_index]\n",
        "  predicted_ratings = np.dot(latent_matrix, user_vector)\n",
        "  recommended_indices = np.argsort(predicted_ratings)[-5:]\n",
        "  return user_article_matrix.columns[recommended_indices]"
      ],
      "metadata": {
        "id": "-zdqDojxXREP",
        "colab": {
          "base_uri": "https://localhost:8080/"
        },
        "outputId": "c19099c7-1889-42c2-8abe-2bc89ef53cbc"
      },
      "execution_count": null,
      "outputs": [
        {
          "output_type": "stream",
          "name": "stdout",
          "text": [
            "contentId             -9222795471790223670  -9216926795620865886  \\\n",
            "personId                                                           \n",
            "-9223121837663643404                   0.0                   0.0   \n",
            "-9212075797126931087                   0.0                   0.0   \n",
            "-9207251133131336884                   0.0                   1.0   \n",
            "-9199575329909162940                   0.0                   0.0   \n",
            "-9196668942822132778                   0.0                   0.0   \n",
            "...                                    ...                   ...   \n",
            " 9165571805999894845                   0.0                   0.0   \n",
            " 9187866633451383747                   0.0                   0.0   \n",
            " 9191849144618614467                   0.0                   0.0   \n",
            " 9199170757466086545                   0.0                   0.0   \n",
            " 9210530975708218054                   0.0                   0.0   \n",
            "\n",
            "contentId             -9194572880052200111  -9192549002213406534  \\\n",
            "personId                                                           \n",
            "-9223121837663643404                   0.0                   0.0   \n",
            "-9212075797126931087                   0.0                   0.0   \n",
            "-9207251133131336884                   0.0                   0.0   \n",
            "-9199575329909162940                   0.0                   0.0   \n",
            "-9196668942822132778                   0.0                   0.0   \n",
            "...                                    ...                   ...   \n",
            " 9165571805999894845                   0.0                   0.0   \n",
            " 9187866633451383747                   0.0                   0.0   \n",
            " 9191849144618614467                   0.0                   0.0   \n",
            " 9199170757466086545                   0.0                   0.0   \n",
            " 9210530975708218054                   0.0                   0.0   \n",
            "\n",
            "contentId             -9190737901804729417  -9189659052158407108  \\\n",
            "personId                                                           \n",
            "-9223121837663643404                   0.0                   0.0   \n",
            "-9212075797126931087                   0.0                   0.0   \n",
            "-9207251133131336884                   0.0                   0.0   \n",
            "-9199575329909162940                   0.0                   0.0   \n",
            "-9196668942822132778                   0.0                   0.0   \n",
            "...                                    ...                   ...   \n",
            " 9165571805999894845                   0.0                   0.0   \n",
            " 9187866633451383747                   0.0                   0.0   \n",
            " 9191849144618614467                   0.0                   0.0   \n",
            " 9199170757466086545                   0.0                   0.0   \n",
            " 9210530975708218054                   0.0                   0.0   \n",
            "\n",
            "contentId             -9184137057748005562  -9176143510534135851  \\\n",
            "personId                                                           \n",
            "-9223121837663643404                   0.0                   0.0   \n",
            "-9212075797126931087                   0.0                   0.0   \n",
            "-9207251133131336884                   0.0                   0.0   \n",
            "-9199575329909162940                   0.0                   0.0   \n",
            "-9196668942822132778                   0.0                   0.0   \n",
            "...                                    ...                   ...   \n",
            " 9165571805999894845                   0.0                   0.0   \n",
            " 9187866633451383747                   0.0                   0.0   \n",
            " 9191849144618614467                   0.0                   0.0   \n",
            " 9199170757466086545                   0.0                   0.0   \n",
            " 9210530975708218054                   0.0                   0.0   \n",
            "\n",
            "contentId             -9172673334835262304  -9171475473795142532  ...  \\\n",
            "personId                                                          ...   \n",
            "-9223121837663643404                   0.0                   0.0  ...   \n",
            "-9212075797126931087                   0.0                   0.0  ...   \n",
            "-9207251133131336884                   0.0                   0.0  ...   \n",
            "-9199575329909162940                   0.0                   0.0  ...   \n",
            "-9196668942822132778                   0.0                   0.0  ...   \n",
            "...                                    ...                   ...  ...   \n",
            " 9165571805999894845                   0.0                   0.0  ...   \n",
            " 9187866633451383747                   0.0                   0.0  ...   \n",
            " 9191849144618614467                   0.0                   0.0  ...   \n",
            " 9199170757466086545                   0.0                   0.0  ...   \n",
            " 9210530975708218054                   0.0                   0.0  ...   \n",
            "\n",
            "contentId              9191014301634017491   9207286802575546269  \\\n",
            "personId                                                           \n",
            "-9223121837663643404                   0.0                   0.0   \n",
            "-9212075797126931087                   0.0                   0.0   \n",
            "-9207251133131336884                   0.0                   0.0   \n",
            "-9199575329909162940                   0.0                   0.0   \n",
            "-9196668942822132778                   0.0                   0.0   \n",
            "...                                    ...                   ...   \n",
            " 9165571805999894845                   0.0                   0.0   \n",
            " 9187866633451383747                   0.0                   0.0   \n",
            " 9191849144618614467                   0.0                   0.0   \n",
            " 9199170757466086545                   0.0                   0.0   \n",
            " 9210530975708218054                   0.0                   0.0   \n",
            "\n",
            "contentId              9208127165664287660   9209629151177723638  \\\n",
            "personId                                                           \n",
            "-9223121837663643404                   0.0                   0.0   \n",
            "-9212075797126931087                   0.0                   0.0   \n",
            "-9207251133131336884                   0.0                   0.0   \n",
            "-9199575329909162940                   0.0                   0.0   \n",
            "-9196668942822132778                   0.0                   0.0   \n",
            "...                                    ...                   ...   \n",
            " 9165571805999894845                   0.0                   0.0   \n",
            " 9187866633451383747                   0.0                   0.0   \n",
            " 9191849144618614467                   0.0                   0.0   \n",
            " 9199170757466086545                   0.0                   0.0   \n",
            " 9210530975708218054                   0.0                   0.0   \n",
            "\n",
            "contentId              9209886322932807692   9213260650272029784  \\\n",
            "personId                                                           \n",
            "-9223121837663643404                   0.0                   0.0   \n",
            "-9212075797126931087                   0.0                   0.0   \n",
            "-9207251133131336884                   0.0                   0.0   \n",
            "-9199575329909162940                   0.0                   0.0   \n",
            "-9196668942822132778                   0.0                   0.0   \n",
            "...                                    ...                   ...   \n",
            " 9165571805999894845                   0.0                   0.0   \n",
            " 9187866633451383747                   0.0                   0.0   \n",
            " 9191849144618614467                   0.0                   0.0   \n",
            " 9199170757466086545                   0.0                   0.0   \n",
            " 9210530975708218054                   1.0                   0.0   \n",
            "\n",
            "contentId              9215261273565326920   9217155070834564627  \\\n",
            "personId                                                           \n",
            "-9223121837663643404                   0.0                   0.0   \n",
            "-9212075797126931087                   0.0                   0.0   \n",
            "-9207251133131336884                   0.0                   0.0   \n",
            "-9199575329909162940                   0.0                   0.0   \n",
            "-9196668942822132778                   0.0                   0.0   \n",
            "...                                    ...                   ...   \n",
            " 9165571805999894845                   0.0                   0.0   \n",
            " 9187866633451383747                   0.0                   0.0   \n",
            " 9191849144618614467                   0.0                   0.0   \n",
            " 9199170757466086545                   0.0                   0.0   \n",
            " 9210530975708218054                   0.0                   0.0   \n",
            "\n",
            "contentId              9220445660318725468   9222265156747237864  \n",
            "personId                                                          \n",
            "-9223121837663643404                   0.0                   0.0  \n",
            "-9212075797126931087                   0.0                   0.0  \n",
            "-9207251133131336884                   0.0                   0.0  \n",
            "-9199575329909162940                   0.0                   0.0  \n",
            "-9196668942822132778                   0.0                   0.0  \n",
            "...                                    ...                   ...  \n",
            " 9165571805999894845                   0.0                   0.0  \n",
            " 9187866633451383747                   0.0                   0.0  \n",
            " 9191849144618614467                   0.0                   0.0  \n",
            " 9199170757466086545                   0.0                   0.0  \n",
            " 9210530975708218054                   0.0                   0.0  \n",
            "\n",
            "[1895 rows x 2982 columns]\n"
          ]
        }
      ]
    },
    {
      "cell_type": "code",
      "source": [
        "def hybrid_recommendation(personId,article_title):\n",
        "  content_recommendations=get_recommendations(article_title)\n",
        "  collaborative_recommendations=get_collaborative_recommendation(personId)\n",
        "  hybrid_recommendations=set(collaborative_recommendations).union(set(content_recommendations))\n",
        "  return list(hybrid_recommendations)"
      ],
      "metadata": {
        "id": "mPKrVgvug1jE"
      },
      "execution_count": null,
      "outputs": []
    },
    {
      "cell_type": "code",
      "source": [
        "article_title='Why Decentralized Conglomerates Will Scale Better than Bitcoin - Interview with OpenLedger CEO - Bitcoin News'\n",
        "personId=9210530975708218054\n",
        "\n",
        "\n",
        "recommended_articles=hybrid_recommendation(personId,article_title)\n",
        "print(\"recommended_articles: \")\n",
        "for title in recommended_articles:\n",
        "  print(title)"
      ],
      "metadata": {
        "id": "VorT_bQ6h1qN",
        "colab": {
          "base_uri": "https://localhost:8080/"
        },
        "outputId": "0717dfca-1ed5-40f5-eb4a-6d53f3ece650"
      },
      "execution_count": null,
      "outputs": [
        {
          "output_type": "stream",
          "name": "stdout",
          "text": [
            "recommended_articles: \n",
            "Confused by blockchains? Revolution vs Evolution\n",
            "Ethereum and Bitcoin Are Market Leaders But Not Competitors\n",
            "Bitit Launches to Solve Bitcoin Biggest Issues - Accessibility and Fraud\n",
            "Are you a bitcoin denialist? - Chris Skinner's blog\n",
            "-969155230116728853\n",
            "Growing Global Electricity Consumption Is Not Just Bitcoin's Fault\n",
            "-2548446404469756145\n",
            "-9137036168156595470\n",
            "-538948733779286129\n",
            "Governments vs Bitcoin: A Fight For Control\n",
            "Blockchain CEO's Business Advice on Bitcoin Startups\n",
            "French Senate Will Debate on Bitcoin Regulation\n",
            "Our Goal is to Replace Your Need for a Bank, Says Blockchain Co-Founder and CEO Nicolas Cary\n",
            "-5315378314308323942\n",
            "Blockchain won't kill banks: Bitcoin pioneer\n"
          ]
        }
      ]
    }
  ]
}